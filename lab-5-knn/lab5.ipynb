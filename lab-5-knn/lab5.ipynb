{
  "nbformat": 4,
  "nbformat_minor": 0,
  "metadata": {
    "colab": {
      "name": "IS470_lab5.ipynb",
      "provenance": [],
      "collapsed_sections": [],
      "toc_visible": true
    },
    "kernelspec": {
      "name": "python3",
      "display_name": "Python 3"
    },
    "language_info": {
      "name": "python"
    }
  },
  "cells": [
    {
      "cell_type": "markdown",
      "metadata": {
        "id": "_YEHhu06X2im"
      },
      "source": [
        "#IS 470 Lab 5: K Nearest Neighbor\n",
        "\n",
        "---"
      ]
    },
    {
      "cell_type": "markdown",
      "metadata": {
        "id": "6jFjFMqAX-yp"
      },
      "source": [
        "This data set contains information of cars purchased at the Auction.\n",
        "<br>\n",
        "We will use this file to predict the quality of buying decisions and visualize decision processes.\n",
        "<br>\n",
        "<br>\n",
        "VARIABLE DESCRIPTIONS:<br>\n",
        "Auction: Auction provider at which the  vehicle was purchased<br>\n",
        "Color: Vehicle Color<br>\n",
        "IsBadBuy: Identifies if the kicked vehicle was an avoidable purchase<br>\n",
        "MMRCurrentAuctionAveragePrice: Acquisition price for this vehicle in average condition as of current day<br>\n",
        "Size: The size category of the vehicle (Compact, SUV, etc.)<br>\n",
        "TopThreeAmericanName:Identifies if the manufacturer is one of the top three American manufacturers<br>\n",
        "VehBCost: Acquisition cost paid for the vehicle at time of purchase<br>\n",
        "VehicleAge: The Years elapsed since the manufacturer's year<br>\n",
        "VehOdo: The vehicles odometer reading<br>\n",
        "WarrantyCost: Warranty price (term=36month  and millage=36K)<br>\n",
        "WheelType: The vehicle wheel type description (Alloy, Covers)<br>\n",
        "<br>\n",
        "Target variable: **IsBadBuy**"
      ]
    },
    {
      "cell_type": "markdown",
      "metadata": {
        "id": "D6UCBjrtG-g6"
      },
      "source": [
        "## 1.Upload and clean data"
      ]
    },
    {
      "cell_type": "code",
      "metadata": {
        "id": "nkqDo5OuHCQ8"
      },
      "source": [
        "# Mounting Google Drive\n",
        "from google.colab import drive\n",
        "drive.mount('/content/drive')"
      ],
      "execution_count": null,
      "outputs": []
    },
    {
      "cell_type": "code",
      "metadata": {
        "id": "4db5s5prM1z8"
      },
      "source": [
        "# Import libraries\n",
        "import pandas as pd\n",
        "from sklearn.model_selection import train_test_split\n",
        "from sklearn import preprocessing\n",
        "from sklearn import tree\n",
        "from sklearn.tree import DecisionTreeClassifier\n",
        "from sklearn.neighbors import KNeighborsClassifier\n",
        "from sklearn.metrics import plot_confusion_matrix\n",
        "from sklearn.metrics import classification_report\n",
        "from matplotlib import pyplot as plt"
      ],
      "execution_count": 7,
      "outputs": []
    },
    {
      "cell_type": "code",
      "metadata": {
        "id": "Z7vBYMeBG0ZE"
      },
      "source": [
        "# Read data\n",
        "carAuction = pd.read_csv(\"/content/drive/MyDrive/IS470_data/carAuction.csv\")\n",
        "carAuction"
      ],
      "execution_count": null,
      "outputs": []
    },
    {
      "cell_type": "code",
      "metadata": {
        "id": "LiI3pabsNeRG"
      },
      "source": [
        "# Show the head rows of a data frame\n",
        "carAuction.head()"
      ],
      "execution_count": null,
      "outputs": []
    },
    {
      "cell_type": "code",
      "metadata": {
        "id": "Sxp6-L5nNeRH"
      },
      "source": [
        "# Examine variable type\n",
        "carAuction.dtypes"
      ],
      "execution_count": null,
      "outputs": []
    },
    {
      "cell_type": "code",
      "metadata": {
        "id": "0Tdv67wRNeRH"
      },
      "source": [
        "# Change categorical variables to \"category\"\n",
        "carAuction['Auction'] = carAuction['Auction'].astype('category')\n",
        "carAuction['Color'] = carAuction['Color'].astype('category')\n",
        "carAuction['IsBadBuy'] = carAuction['IsBadBuy'].astype('category')\n",
        "carAuction['Size'] = carAuction['Size'].astype('category')\n",
        "carAuction['TopThreeAmericanName'] = carAuction['TopThreeAmericanName'].astype('category')\n",
        "carAuction['WheelType'] = carAuction['WheelType'].astype('category')"
      ],
      "execution_count": null,
      "outputs": []
    },
    {
      "cell_type": "code",
      "metadata": {
        "id": "UPWSMKGRpWAj"
      },
      "source": [
        "# Examine variable type\n",
        "carAuction.dtypes"
      ],
      "execution_count": null,
      "outputs": []
    },
    {
      "cell_type": "markdown",
      "metadata": {
        "id": "a3baHs-sknIT"
      },
      "source": [
        "## 2.Partition the data set for K Nearest Neighbor model"
      ]
    },
    {
      "cell_type": "code",
      "metadata": {
        "id": "PGheFILukrMR"
      },
      "source": [
        "# Create dummy variables\n",
        "carAuction = pd.get_dummies(carAuction, columns=['Auction','Color','Size','TopThreeAmericanName','WheelType'], drop_first=True)\n",
        "carAuction"
      ],
      "execution_count": null,
      "outputs": []
    },
    {
      "cell_type": "code",
      "metadata": {
        "id": "U-98cfmGiKF6"
      },
      "source": [
        "target = carAuction['IsBadBuy']\n",
        "predictors = carAuction.drop(['IsBadBuy'],axis=1)\n",
        "# Apply minmax normalization on predictors\n"
      ],
      "execution_count": null,
      "outputs": []
    },
    {
      "cell_type": "code",
      "metadata": {
        "id": "UfxzlCPBnZ-4"
      },
      "source": [
        "# Partition the data\n"
      ],
      "execution_count": null,
      "outputs": []
    },
    {
      "cell_type": "code",
      "metadata": {
        "id": "j6Y5U91BoVmf"
      },
      "source": [
        "# Examine the porportion of target variable for training data set\n"
      ],
      "execution_count": null,
      "outputs": []
    },
    {
      "cell_type": "code",
      "metadata": {
        "id": "MasSsm8apCG-"
      },
      "source": [
        "# Examine the porportion of target variable for testing data set\n"
      ],
      "execution_count": null,
      "outputs": []
    },
    {
      "cell_type": "markdown",
      "metadata": {
        "id": "xt0XU6fmplzw"
      },
      "source": [
        "## 3.K Nearest Neighbor model prediction"
      ]
    },
    {
      "cell_type": "markdown",
      "metadata": {
        "id": "rFuNSIFlz8bj"
      },
      "source": [
        "### Build a K Nearest Neighbor model with n_neighbors = 1"
      ]
    },
    {
      "cell_type": "code",
      "metadata": {
        "id": "yi8FlSIQpB_X"
      },
      "source": [
        "# Build a K Nearest Neighbor model on training data with n_neighbors = 1\n"
      ],
      "execution_count": null,
      "outputs": []
    },
    {
      "cell_type": "code",
      "metadata": {
        "id": "s3BPoqH0tuDd"
      },
      "source": [
        "# Make predictions on training and testing data\n"
      ],
      "execution_count": null,
      "outputs": []
    },
    {
      "cell_type": "code",
      "metadata": {
        "id": "b0bXYF0jxeUt"
      },
      "source": [
        "# Examine the evaluation results on training data: confusion_matrix\n"
      ],
      "execution_count": null,
      "outputs": []
    },
    {
      "cell_type": "code",
      "metadata": {
        "id": "7QWLYy7exeUt"
      },
      "source": [
        "# Examine the evaluation results on training data: accuracy, precision, recall, and f1-score\n"
      ],
      "execution_count": null,
      "outputs": []
    },
    {
      "cell_type": "code",
      "metadata": {
        "id": "Mp2hbRzywpGd"
      },
      "source": [
        "# Examine the evaluation results on testing data: confusion_matrix\n"
      ],
      "execution_count": null,
      "outputs": []
    },
    {
      "cell_type": "code",
      "metadata": {
        "id": "JnI7ioz-xBN0"
      },
      "source": [
        "# Examine the evaluation results on testing data: accuracy, precision, recall, and f1-score\n"
      ],
      "execution_count": null,
      "outputs": []
    },
    {
      "cell_type": "markdown",
      "metadata": {
        "id": "ahgldnbVzVuI"
      },
      "source": [
        "Q1. Compare the performances on training and testing sets <br>\n",
        "\n",
        "a. Why we have perfect evaluation results on the training data?<br>\n",
        "\n",
        "b. Does the KNN model with n_neighbors = 1 generalize well on the testing set? why?<br>\n"
      ]
    },
    {
      "cell_type": "markdown",
      "metadata": {
        "id": "nrMN9_Dy0EgZ"
      },
      "source": [
        "### Build a K Nearest Neighbor model with n_neighbors = 3"
      ]
    },
    {
      "cell_type": "code",
      "metadata": {
        "id": "RGL-LC4b0LrM"
      },
      "source": [
        "# Build a K Nearest Neighbor model on training data with n_neighbors = 3\n"
      ],
      "execution_count": null,
      "outputs": []
    },
    {
      "cell_type": "code",
      "metadata": {
        "id": "CotVF0cm0LrN"
      },
      "source": [
        "# Make predictions on training and testing data\n"
      ],
      "execution_count": null,
      "outputs": []
    },
    {
      "cell_type": "code",
      "metadata": {
        "id": "86Ck2PyI0LrP"
      },
      "source": [
        "# Examine the evaluation results on training data: confusion_matrix\n"
      ],
      "execution_count": null,
      "outputs": []
    },
    {
      "cell_type": "code",
      "metadata": {
        "id": "aAa_arlq0LrP"
      },
      "source": [
        "# Examine the evaluation results on training data: accuracy, precision, recall, and f1-score\n"
      ],
      "execution_count": null,
      "outputs": []
    },
    {
      "cell_type": "code",
      "metadata": {
        "id": "ybIvFlpF0LrO"
      },
      "source": [
        "# Examine the evaluation results on testing data: confusion_matrix\n"
      ],
      "execution_count": null,
      "outputs": []
    },
    {
      "cell_type": "code",
      "metadata": {
        "id": "dMVsZn2z0LrO"
      },
      "source": [
        "# Examine the evaluation results on testing data: accuracy, precision, recall, and f1-score\n"
      ],
      "execution_count": null,
      "outputs": []
    },
    {
      "cell_type": "markdown",
      "metadata": {
        "id": "Pwrh60aJ0EpB"
      },
      "source": [
        "### Build a K Nearest Neighbor model with n_neighbors = 10"
      ]
    },
    {
      "cell_type": "code",
      "metadata": {
        "id": "0xuGGLPy0k0_"
      },
      "source": [
        "# Build a K Nearest Neighbor model on training data with n_neighbors = 10\n"
      ],
      "execution_count": null,
      "outputs": []
    },
    {
      "cell_type": "code",
      "metadata": {
        "id": "zM3xwfRK0k1A"
      },
      "source": [
        "# Make predictions on training and testing data\n"
      ],
      "execution_count": null,
      "outputs": []
    },
    {
      "cell_type": "code",
      "metadata": {
        "id": "Xw5q7Uzt0k1B"
      },
      "source": [
        "# Examine the evaluation results on training data: confusion_matrix\n"
      ],
      "execution_count": null,
      "outputs": []
    },
    {
      "cell_type": "code",
      "metadata": {
        "id": "6r0HcsL20k1B"
      },
      "source": [
        "# Examine the evaluation results on training data: accuracy, precision, recall, and f1-score\n"
      ],
      "execution_count": null,
      "outputs": []
    },
    {
      "cell_type": "code",
      "metadata": {
        "id": "o4jZJayL0k1A"
      },
      "source": [
        "# Examine the evaluation results on testing data: confusion_matrix\n"
      ],
      "execution_count": null,
      "outputs": []
    },
    {
      "cell_type": "code",
      "metadata": {
        "id": "BQG2pkLs0k1B"
      },
      "source": [
        "# Examine the evaluation results on testing data: accuracy, precision, recall, and f1-score\n"
      ],
      "execution_count": null,
      "outputs": []
    },
    {
      "cell_type": "markdown",
      "metadata": {
        "id": "72nt_q2I1Ciq"
      },
      "source": [
        "Q2. Which KNN model is the best for identifying bad buy cars (n_neighbors=1, 3 or 10)? and why? <br>\n"
      ]
    },
    {
      "cell_type": "markdown",
      "metadata": {
        "id": "fjlxBrPw1H5R"
      },
      "source": [
        "Q3. Compare the performances on the training and testing data with n_neighbors = 1, 3, and 10. How the KNN model performs as we increase the value of n_neighbors?<br>\n"
      ]
    },
    {
      "cell_type": "markdown",
      "metadata": {
        "id": "cTiZb05LsKg4"
      },
      "source": [
        "## 4.Generalization and Overfitting"
      ]
    },
    {
      "cell_type": "markdown",
      "metadata": {
        "id": "lmE0fNI3tm3v"
      },
      "source": [
        "### Build a decision tree model with max_depth = 1"
      ]
    },
    {
      "cell_type": "code",
      "metadata": {
        "id": "vaUaVAyWsatF"
      },
      "source": [
        "# Build a decision tree model on training data with max_depth = 1\n",
        "model_tree1 = DecisionTreeClassifier(criterion = \"entropy\", random_state = 1, max_depth = 1)\n",
        "model_tree1.fit(predictors_train, target_train)"
      ],
      "execution_count": null,
      "outputs": []
    },
    {
      "cell_type": "code",
      "metadata": {
        "id": "F1_BKuXhsqkE"
      },
      "source": [
        "# Plot the tree\n",
        "fig = plt.figure(figsize=(30,20))\n",
        "tree.plot_tree(model_tree1, \n",
        "               feature_names=list(carAuction.columns)[1:],  \n",
        "               class_names=['No','Yes'],\n",
        "               filled=True)"
      ],
      "execution_count": null,
      "outputs": []
    },
    {
      "cell_type": "code",
      "metadata": {
        "id": "b7YyOVGiswgx"
      },
      "source": [
        "# Make predictions on training and testing data\n",
        "prediction_on_train = model_tree1.predict(predictors_train)\n",
        "prediction_on_test = model_tree1.predict(predictors_test)"
      ],
      "execution_count": null,
      "outputs": []
    },
    {
      "cell_type": "code",
      "metadata": {
        "id": "-Xs95t1ps-84"
      },
      "source": [
        "# Examine the evaluation results on training data: accuracy, precision, recall, and f1-score\n",
        "print(classification_report(target_train, prediction_on_train))"
      ],
      "execution_count": null,
      "outputs": []
    },
    {
      "cell_type": "code",
      "metadata": {
        "id": "0MJspwSuswaX"
      },
      "source": [
        "# Examine the evaluation results on testing data: accuracy, precision, recall, and f1-score\n",
        "print(classification_report(target_test, prediction_on_test))"
      ],
      "execution_count": null,
      "outputs": []
    },
    {
      "cell_type": "markdown",
      "metadata": {
        "id": "yCx6iBBAubmg"
      },
      "source": [
        "### Build a decision tree model with max_depth = 2"
      ]
    },
    {
      "cell_type": "code",
      "metadata": {
        "id": "gcjX-acNubmg"
      },
      "source": [
        "# Build a decision tree model on training data with max_depth = 2\n",
        "model_tree2 = DecisionTreeClassifier(criterion = \"entropy\", random_state = 1, max_depth = 2)\n",
        "model_tree2.fit(predictors_train, target_train)"
      ],
      "execution_count": null,
      "outputs": []
    },
    {
      "cell_type": "code",
      "metadata": {
        "id": "sVuAS5_7ubmg"
      },
      "source": [
        "# Plot the tree\n",
        "fig = plt.figure(figsize=(30,20))\n",
        "tree.plot_tree(model_tree2, \n",
        "               feature_names=list(carAuction.columns)[1:],  \n",
        "               class_names=['No','Yes'],\n",
        "               filled=True)"
      ],
      "execution_count": null,
      "outputs": []
    },
    {
      "cell_type": "code",
      "metadata": {
        "id": "o8e6NXtLubmh"
      },
      "source": [
        "# Make predictions on training and testing data\n",
        "prediction_on_train = model_tree2.predict(predictors_train)\n",
        "prediction_on_test = model_tree2.predict(predictors_test)"
      ],
      "execution_count": null,
      "outputs": []
    },
    {
      "cell_type": "code",
      "metadata": {
        "id": "1ooDPyYQubmh"
      },
      "source": [
        "# Examine the evaluation results on training data: accuracy, precision, recall, and f1-score\n",
        "print(classification_report(target_train, prediction_on_train))"
      ],
      "execution_count": null,
      "outputs": []
    },
    {
      "cell_type": "code",
      "metadata": {
        "id": "0irJMnlQubmh"
      },
      "source": [
        "# Examine the evaluation results on testing data: accuracy, precision, recall, and f1-score\n",
        "print(classification_report(target_test, prediction_on_test))"
      ],
      "execution_count": null,
      "outputs": []
    },
    {
      "cell_type": "markdown",
      "metadata": {
        "id": "JIED_gZYucdk"
      },
      "source": [
        "### Build a decision tree model with max_depth = 10"
      ]
    },
    {
      "cell_type": "code",
      "metadata": {
        "id": "DaYhJnNXucdk"
      },
      "source": [
        "# Build a decision tree model on training data with max_depth = 1\n",
        "model_tree3 = DecisionTreeClassifier(criterion = \"entropy\", random_state = 1, max_depth = 10)\n",
        "model_tree3.fit(predictors_train, target_train)"
      ],
      "execution_count": null,
      "outputs": []
    },
    {
      "cell_type": "code",
      "metadata": {
        "id": "LeKSHqXcucdl"
      },
      "source": [
        "# Plot the tree\n",
        "fig = plt.figure(figsize=(30,20))\n",
        "tree.plot_tree(model_tree3, \n",
        "               feature_names=list(carAuction.columns)[1:],  \n",
        "               class_names=['No','Yes'],\n",
        "               filled=True)"
      ],
      "execution_count": null,
      "outputs": []
    },
    {
      "cell_type": "code",
      "metadata": {
        "id": "ZYyHwmm3ucdl"
      },
      "source": [
        "# Make predictions on training and testing data\n",
        "prediction_on_train = model_tree3.predict(predictors_train)\n",
        "prediction_on_test = model_tree3.predict(predictors_test)"
      ],
      "execution_count": null,
      "outputs": []
    },
    {
      "cell_type": "code",
      "metadata": {
        "id": "sa3-X1n5ucdl"
      },
      "source": [
        "# Examine the evaluation results on training data: accuracy, precision, recall, and f1-score\n",
        "print(classification_report(target_train, prediction_on_train))"
      ],
      "execution_count": null,
      "outputs": []
    },
    {
      "cell_type": "code",
      "metadata": {
        "id": "C22uthZkucdl"
      },
      "source": [
        "# Examine the evaluation results on testing data: accuracy, precision, recall, and f1-score\n",
        "print(classification_report(target_test, prediction_on_test))"
      ],
      "execution_count": null,
      "outputs": []
    },
    {
      "cell_type": "markdown",
      "metadata": {
        "id": "0JDv9xchviBN"
      },
      "source": [
        "Q4. Which decision tree model has the best overall performance on IsBadBuy=Yes class?<br>\n"
      ]
    },
    {
      "cell_type": "code",
      "metadata": {
        "id": "MNRp8uoa-0g0"
      },
      "source": [
        "!jupyter nbconvert --to html \"/content/drive/MyDrive/IS470_lab/IS470_lab5.ipynb\""
      ],
      "execution_count": null,
      "outputs": []
    }
  ]
}