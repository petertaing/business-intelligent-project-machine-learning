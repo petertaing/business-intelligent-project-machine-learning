{
  "nbformat": 4,
  "nbformat_minor": 0,
  "metadata": {
    "colab": {
      "name": "IS470_lab9.ipynb",
      "provenance": [],
      "collapsed_sections": [],
      "toc_visible": true
    },
    "kernelspec": {
      "name": "python3",
      "display_name": "Python 3"
    },
    "language_info": {
      "name": "python"
    }
  },
  "cells": [
    {
      "cell_type": "markdown",
      "metadata": {
        "id": "_YEHhu06X2im"
      },
      "source": [
        "#IS 470 Lab 9: Association Rule Mining\n",
        "\n",
        "---\n",
        "Market basket analysis is used behind the scenes for the recommendation systems \n",
        "used in many brick-and-mortar and online retailers. The learned association rules indicate the combinations of items that are often purchased together. Knowledge of these patterns provides insight into new ways a grocery chain might optimize the inventory, advertise promotions,or organize the physical layout of the store. For instance, if shoppers frequently purchase coffee or orange juice with a breakfast pastry, it may be possible to increase profit by relocating pastries closer to coffee and juice.<br>\n",
        "<br>\n",
        "In this lab, we will perform a market basket analysis of transactional data \n",
        "from a grocery store.Our market basket analysis will utilize the purchase data \n",
        "collected from one month of operation at a real-world grocery store. The data contains 9,835 transactions.<br>\n",
        "<br>"
      ]
    },
    {
      "cell_type": "markdown",
      "metadata": {
        "id": "D6UCBjrtG-g6"
      },
      "source": [
        "###1. Upload and clean data"
      ]
    },
    {
      "cell_type": "code",
      "metadata": {
        "id": "nkqDo5OuHCQ8"
      },
      "source": [
        "# Mounting Google Drive\n",
        "from google.colab import drive\n",
        "drive.mount('/content/drive')"
      ],
      "execution_count": null,
      "outputs": []
    },
    {
      "cell_type": "code",
      "metadata": {
        "id": "4db5s5prM1z8"
      },
      "source": [
        "# Import libraries\n",
        "! pip install apyori\n",
        "import pandas as pd\n",
        "import numpy as np\n",
        "from csv import reader\n",
        "import seaborn as sns\n",
        "from apyori import apriori"
      ],
      "execution_count": null,
      "outputs": []
    },
    {
      "cell_type": "code",
      "metadata": {
        "id": "Z7vBYMeBG0ZE"
      },
      "source": [
        "# Read data line by line\n",
        "groceries = []\n",
        "with open('/content/drive/MyDrive/IS470_data/groceries.csv', 'r') as read_obj:\n",
        "    csv_reader = reader(read_obj)\n",
        "    for row in csv_reader:\n",
        "        groceries.append(row)"
      ],
      "execution_count": 3,
      "outputs": []
    },
    {
      "cell_type": "code",
      "metadata": {
        "id": "LiI3pabsNeRG"
      },
      "source": [
        "# Inspect the first 5 transactions\n"
      ],
      "execution_count": null,
      "outputs": []
    },
    {
      "cell_type": "markdown",
      "metadata": {
        "id": "JwrY6LbQp-uX"
      },
      "source": [
        "## 2. Data exploration"
      ]
    },
    {
      "cell_type": "code",
      "metadata": {
        "id": "8iiw7DJsqEkP"
      },
      "source": [
        "# Show the number of transactions\n"
      ],
      "execution_count": null,
      "outputs": []
    },
    {
      "cell_type": "code",
      "metadata": {
        "id": "--drjS-lqQrw"
      },
      "source": [
        "# Show the number of unique items\n",
        "flat_list = np.concatenate(groceries).flat\n",
        "unique_item, item_count = np.unique(flat_list, return_counts=True)\n",
        "print(\"number of unique items:\", len(unique_item))"
      ],
      "execution_count": null,
      "outputs": []
    },
    {
      "cell_type": "code",
      "metadata": {
        "id": "-vVlUtJPxiTe"
      },
      "source": [
        "# Plot the distribution of transaction length\n",
        "transaction_len = []\n",
        "for transaction in groceries:\n",
        "  transaction_len.append(len(transaction))\n",
        "sns.countplot(x = 'transaction_len', data = pd.DataFrame({'transaction_len':transaction_len}))"
      ],
      "execution_count": null,
      "outputs": []
    },
    {
      "cell_type": "code",
      "metadata": {
        "id": "Mx0eaekjr0sH"
      },
      "source": [
        "# Examine the absolute frquency of items in descending order\n",
        "item_frequency = pd.DataFrame({'items':flat_list})\n",
        "item_frequency.value_counts()"
      ],
      "execution_count": null,
      "outputs": []
    },
    {
      "cell_type": "markdown",
      "metadata": {
        "id": "pou0ichNvmWI"
      },
      "source": [
        "Q1. What are the top 3 most frequent items?<br>\n",
        "\n",
        "\n"
      ]
    },
    {
      "cell_type": "code",
      "metadata": {
        "id": "WEciD5YRs9fh"
      },
      "source": [
        "# Examine the relative frquency of items in descending order\n"
      ],
      "execution_count": null,
      "outputs": []
    },
    {
      "cell_type": "markdown",
      "metadata": {
        "id": "zitkWzWbtWEp"
      },
      "source": [
        "Q2. What are the support values for top 3 most frequent items?<br>\n"
      ]
    },
    {
      "cell_type": "markdown",
      "metadata": {
        "id": "xt0XU6fmplzw"
      },
      "source": [
        "## 3. Use the apriori algorithm to generate association rules"
      ]
    },
    {
      "cell_type": "code",
      "metadata": {
        "id": "x0VhAFpNy-Dk"
      },
      "source": [
        "# Use the apriori command to generate rules with minimal support = 0.01, minimal confidence = 0.3, and max length = 2.\n",
        "groceries_rules = apriori(groceries, min_support = 0.01, min_confidence = 0.3, max_length=2)\n",
        "groceries_rules = list(groceries_rules)"
      ],
      "execution_count": 5,
      "outputs": []
    },
    {
      "cell_type": "code",
      "metadata": {
        "id": "F1r-tUxNzWEm"
      },
      "source": [
        "# Display all rules\n",
        "all_rules = pd.DataFrame(columns=('LHS','RHS','support','confidence','lift'))\n",
        "for i in range(len(groceries_rules)):\n",
        "  for rule_ in groceries_rules[i].ordered_statistics:\n",
        "    all_rules = all_rules.append({'LHS':','.join(list(rule_.items_base)),'RHS':','.join(list(rule_.items_add)), 'support': groceries_rules[i].support, 'confidence': rule_.confidence, 'lift': rule_.lift}, ignore_index=True)\n",
        "pd.options.display.max_rows = 999\n",
        "all_rules"
      ],
      "execution_count": null,
      "outputs": []
    },
    {
      "cell_type": "markdown",
      "metadata": {
        "id": "9rwk7Na5Gq6z"
      },
      "source": [
        "Q3. How many rules are generated?<br>\n"
      ]
    },
    {
      "cell_type": "code",
      "metadata": {
        "id": "K8Nc0Gin1z1A"
      },
      "source": [
        "# Display all rules sorted by confidence levels\n"
      ],
      "execution_count": null,
      "outputs": []
    },
    {
      "cell_type": "code",
      "metadata": {
        "id": "uG9jIlMZHDwp"
      },
      "source": [
        "# Display the top 5 rules sorted by confidence levels\n"
      ],
      "execution_count": null,
      "outputs": []
    },
    {
      "cell_type": "markdown",
      "metadata": {
        "id": "k1sw4iQyG0ON"
      },
      "source": [
        "Q4. What is the probability of buying whole milk when butter is purchased?<br>\n"
      ]
    },
    {
      "cell_type": "markdown",
      "metadata": {
        "id": "PZ87FkdCGyvL"
      },
      "source": [
        "Q5. What is the probability of buying butter and whole milk together?<br>\n"
      ]
    },
    {
      "cell_type": "markdown",
      "metadata": {
        "id": "mcO7TZTWGx9a"
      },
      "source": [
        "Q6. Interpret the first rule based on the values of the support, confidence, and lift.<br>\n"
      ]
    },
    {
      "cell_type": "code",
      "metadata": {
        "id": "xUumOGPlHb-A"
      },
      "source": [
        "# Use the apriori command to generate rules with minimal support = 0.02 and minimal confidence = 0.4 and max length = 3.\n"
      ],
      "execution_count": null,
      "outputs": []
    },
    {
      "cell_type": "code",
      "metadata": {
        "id": "EZdDNP9JHrEW"
      },
      "source": [
        "# Display all rules\n"
      ],
      "execution_count": null,
      "outputs": []
    },
    {
      "cell_type": "code",
      "metadata": {
        "id": "pDPLktwTHnxi"
      },
      "source": [
        "# Display top 10 rules sorted by lift\n"
      ],
      "execution_count": null,
      "outputs": []
    },
    {
      "cell_type": "code",
      "metadata": {
        "id": "x1riRWI0INnJ"
      },
      "source": [
        "# Find and display rules containing \"other vegetables\" on the left-hand side\n"
      ],
      "execution_count": null,
      "outputs": []
    },
    {
      "cell_type": "markdown",
      "metadata": {
        "id": "hljDoyMFKeyw"
      },
      "source": [
        "Q7. Interpret the first rule based on the values of the support, confidence, and lift.<br>\n"
      ]
    },
    {
      "cell_type": "code",
      "metadata": {
        "id": "J_uNzkWOKHtf"
      },
      "source": [
        "# Find and display rules containing \"other vegetables\" on the right-hand side\n"
      ],
      "execution_count": null,
      "outputs": []
    },
    {
      "cell_type": "code",
      "metadata": {
        "id": "GL0ebMrZK6OA"
      },
      "source": [
        "# Use the apriori command to generate about 30 to 50 association rules. Set your own minimum support and confidence threshold levels. \n",
        "# Remember if the thresholds are too low, you will get too many rules, or if you set them too high, you may not get any or enough rules.\n"
      ],
      "execution_count": null,
      "outputs": []
    },
    {
      "cell_type": "code",
      "metadata": {
        "id": "piIHM1l8LIkI"
      },
      "source": [
        "# Display all rules\n"
      ],
      "execution_count": null,
      "outputs": []
    },
    {
      "cell_type": "code",
      "metadata": {
        "id": "ALQQu5yiLS4g"
      },
      "source": [
        "# Display all rules sorted by lift\n"
      ],
      "execution_count": null,
      "outputs": []
    },
    {
      "cell_type": "markdown",
      "metadata": {
        "id": "MIMISUPWLcdm"
      },
      "source": [
        "Q8. Select an interesting rule and explain how it can benefit the grocery store.<br>\n"
      ]
    },
    {
      "cell_type": "code",
      "metadata": {
        "id": "MNRp8uoa-0g0"
      },
      "source": [
        "!jupyter nbconvert --to html \"/content/drive/MyDrive/IS470_lab/IS470_lab9.ipynb\""
      ],
      "execution_count": null,
      "outputs": []
    }
  ]
}