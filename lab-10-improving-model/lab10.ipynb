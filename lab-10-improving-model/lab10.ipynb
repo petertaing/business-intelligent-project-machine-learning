{
  "nbformat": 4,
  "nbformat_minor": 0,
  "metadata": {
    "colab": {
      "name": "IS470_lab10.ipynb",
      "provenance": [],
      "collapsed_sections": [],
      "toc_visible": true
    },
    "kernelspec": {
      "name": "python3",
      "display_name": "Python 3"
    },
    "language_info": {
      "name": "python"
    }
  },
  "cells": [
    {
      "cell_type": "markdown",
      "metadata": {
        "id": "13Ewpcs3Nv9t"
      },
      "source": [
        "#IS 470 Lab 10: Improving Model Performance\n",
        "\n",
        "---\n",
        "You have been given a data file by the San Francisco Bay Area Rapid Transit (BART), which identifies a set of demographics for residents in a local area. We will use this file to predict whether a resident is Rider or not.<br>\n",
        "<br>\n",
        "VARIABLE DESCRIPTIONS:<br>\n",
        "<br>\n",
        "Age:  \n",
        "\n",
        "            1.   14 thru 17\n",
        "            2.   18 thru 24\n",
        "            3.   25 thru 34\n",
        "            4.   35 thru 44\n",
        "            5.   45 thru 54\n",
        "            6.   55 thru 64\n",
        "            7.   65 and Over\n",
        "\n",
        "DistToWork: Distance to work in miles<br>\n",
        "DualInc: Is dual income household or not<br>\n",
        "Education:  \n",
        "            \n",
        "            1. Grade 8 or less<br>\n",
        "            2. Grades 9 to 11<br>\n",
        "            3. Graduated high school<br>\n",
        "            4. 1 to 3 years of college<br>\n",
        "            5. College graduate<br>\n",
        "            6. Grad Study<br>\n",
        "Gender:\tM or F<br>\n",
        "Income: \n",
        "        \n",
        "            1. Less than $10,000<br>\n",
        "            2. $10,000 to $14,999<br>\n",
        "            3. $15,000 to $19,999<br>\n",
        "            4. $20,000 to $24,999<br>\n",
        "            5. $25,000 to $29,999<br>\n",
        "            6. $30,000 to $39,999<br>\n",
        "            7. $40,000 to $49,999<br>\n",
        "            8. $50,000 to $74,999<br>\n",
        "            9. $75,000 or more<br>\n",
        "Language:\tLanguage spoken at home<br>\n",
        "NbrInHouseHold:\tNumber in household<br>\n",
        "NbrInHouseholdUnder18:\tNumber in household under 18 years old<br>\n",
        "OwnRent:\tOwn, rent, or live with parents<br>\n",
        "YrsInArea:\tYears lived in bay area<br>\n",
        "Rider:\tNo, Non-rider; Yes, Rider<br>\n",
        "<br>\n",
        "Target variable: **Rider**"
      ]
    },
    {
      "cell_type": "markdown",
      "metadata": {
        "id": "SKqVXzbWOAyl"
      },
      "source": [
        "###1. Upload and clean data"
      ]
    },
    {
      "cell_type": "code",
      "metadata": {
        "id": "GN5GlqkdOAyl"
      },
      "source": [
        "# Mounting Google Drive\n",
        "from google.colab import drive\n",
        "drive.mount('/content/drive')"
      ],
      "execution_count": null,
      "outputs": []
    },
    {
      "cell_type": "code",
      "metadata": {
        "id": "vB0z7Bl3OAym"
      },
      "source": [
        "# Import libraries\n",
        "import pandas as pd\n",
        "from sklearn import preprocessing\n",
        "from sklearn import tree\n",
        "from sklearn.model_selection import train_test_split\n",
        "from sklearn.tree import DecisionTreeClassifier\n",
        "from sklearn.ensemble import VotingClassifier\n",
        "from sklearn.ensemble import BaggingClassifier\n",
        "from sklearn.ensemble import AdaBoostClassifier\n",
        "from sklearn.svm import SVC\n",
        "from matplotlib import pyplot as plt\n",
        "from sklearn.metrics import plot_confusion_matrix\n",
        "from sklearn.metrics import classification_report"
      ],
      "execution_count": null,
      "outputs": []
    },
    {
      "cell_type": "code",
      "metadata": {
        "id": "TreFR3tOOAym"
      },
      "source": [
        "# Read data\n",
        "BartRider = pd.read_csv(\"/content/drive/MyDrive/IS470_data/BartRider.csv\")\n",
        "BartRider"
      ],
      "execution_count": null,
      "outputs": []
    },
    {
      "cell_type": "code",
      "metadata": {
        "id": "__UY8gZSOAym"
      },
      "source": [
        "# Show the head rows of a data frame\n",
        "BartRider.head()"
      ],
      "execution_count": null,
      "outputs": []
    },
    {
      "cell_type": "code",
      "metadata": {
        "id": "wpACyob5OAym"
      },
      "source": [
        "# Examine variable type\n",
        "BartRider.dtypes"
      ],
      "execution_count": null,
      "outputs": []
    },
    {
      "cell_type": "code",
      "metadata": {
        "id": "Xu2dadyBOAyn"
      },
      "source": [
        "# Change categorical variables to \"category\"\n",
        "BartRider['DualInc'] = BartRider['DualInc'].astype('category')\n",
        "BartRider['Gender'] = BartRider['Gender'].astype('category')\n",
        "BartRider['Language'] = BartRider['Language'].astype('category')\n",
        "BartRider['OwnRent'] = BartRider['OwnRent'].astype('category')\n",
        "BartRider['Rider'] = BartRider['Rider'].astype('category')"
      ],
      "execution_count": null,
      "outputs": []
    },
    {
      "cell_type": "code",
      "metadata": {
        "id": "vm1KU6q5OAyn"
      },
      "source": [
        "# Examine variable type\n",
        "BartRider.dtypes"
      ],
      "execution_count": null,
      "outputs": []
    },
    {
      "cell_type": "markdown",
      "metadata": {
        "id": "A_hfK-RpOAyn"
      },
      "source": [
        "###2. Prepare data set for classification"
      ]
    },
    {
      "cell_type": "code",
      "metadata": {
        "id": "xE0PPBSMOAyn"
      },
      "source": [
        "# Create dummy variables\n",
        "BartRider = pd.get_dummies(BartRider, columns=['DualInc','Gender','Language','OwnRent'], drop_first=True)\n",
        "BartRider"
      ],
      "execution_count": null,
      "outputs": []
    },
    {
      "cell_type": "code",
      "metadata": {
        "id": "UfxzlCPBnZ-4"
      },
      "source": [
        "# Partition the data\n",
        "target = BartRider['Rider']\n",
        "predictors = BartRider.drop(['Rider'],axis=1)\n",
        "predictors_train, predictors_test, target_train, target_test = train_test_split(predictors, target, test_size=0.3, random_state=0)\n",
        "print(predictors_train.shape, predictors_test.shape, target_train.shape, target_test.shape)"
      ],
      "execution_count": null,
      "outputs": []
    },
    {
      "cell_type": "code",
      "metadata": {
        "id": "j6Y5U91BoVmf"
      },
      "source": [
        "# Examine the porportion of target variable for training data set\n",
        "print(target_train.value_counts(normalize=True))"
      ],
      "execution_count": null,
      "outputs": []
    },
    {
      "cell_type": "code",
      "metadata": {
        "id": "MasSsm8apCG-"
      },
      "source": [
        "# Examine the porportion of target variable for testing data set\n",
        "print(target_test.value_counts(normalize=True))"
      ],
      "execution_count": null,
      "outputs": []
    },
    {
      "cell_type": "markdown",
      "metadata": {
        "id": "xt0XU6fmplzw"
      },
      "source": [
        "## 3. Decision Tree model prediction"
      ]
    },
    {
      "cell_type": "code",
      "metadata": {
        "id": "yi8FlSIQpB_X"
      },
      "source": [
        "# Build a decision tree model on training data with max_depth = 3, set random_state = 1.\n"
      ],
      "execution_count": null,
      "outputs": []
    },
    {
      "cell_type": "code",
      "metadata": {
        "id": "2A9YDvIGp5KJ"
      },
      "source": [
        "# Plot the tree\n"
      ],
      "execution_count": null,
      "outputs": []
    },
    {
      "cell_type": "code",
      "metadata": {
        "id": "s3BPoqH0tuDd"
      },
      "source": [
        "# Make predictions on testing data\n"
      ],
      "execution_count": null,
      "outputs": []
    },
    {
      "cell_type": "code",
      "metadata": {
        "id": "Mp2hbRzywpGd"
      },
      "source": [
        "# Examine the evaluation results on testing data: confusion_matrix\n"
      ],
      "execution_count": null,
      "outputs": []
    },
    {
      "cell_type": "code",
      "metadata": {
        "id": "JnI7ioz-xBN0"
      },
      "source": [
        "# Examine the evaluation results on testing data: accuracy, precision, recall, and f1-score\n"
      ],
      "execution_count": null,
      "outputs": []
    },
    {
      "cell_type": "markdown",
      "metadata": {
        "id": "63ODbJLnSe61"
      },
      "source": [
        "## 4. Voting ensemble prediction"
      ]
    },
    {
      "cell_type": "code",
      "metadata": {
        "id": "FkgaJ1MTSry3"
      },
      "source": [
        "# Create three learners: one decision tree model and two SVM models with C =1 and C=5.\n"
      ],
      "execution_count": null,
      "outputs": []
    },
    {
      "cell_type": "code",
      "metadata": {
        "id": "7fYTbJshS7fd"
      },
      "source": [
        "# Create a voting model\n"
      ],
      "execution_count": null,
      "outputs": []
    },
    {
      "cell_type": "code",
      "metadata": {
        "id": "u42kUCsRSe62"
      },
      "source": [
        "# Make predictions on testing data\n"
      ],
      "execution_count": null,
      "outputs": []
    },
    {
      "cell_type": "code",
      "metadata": {
        "id": "JES__7zjSe62"
      },
      "source": [
        "# Examine the evaluation results on testing data: confusion_matrix\n"
      ],
      "execution_count": null,
      "outputs": []
    },
    {
      "cell_type": "code",
      "metadata": {
        "id": "rndkFQjxSe63"
      },
      "source": [
        "# Examine the evaluation results on testing data: accuracy, precision, recall, and f1-score\n"
      ],
      "execution_count": null,
      "outputs": []
    },
    {
      "cell_type": "markdown",
      "metadata": {
        "id": "9tpMyI4fCyU3"
      },
      "source": [
        "## 5. Bagging ensemble prediction"
      ]
    },
    {
      "cell_type": "code",
      "metadata": {
        "id": "FReWZP2TCyVD"
      },
      "source": [
        "# Bagging based on decision tree model\n"
      ],
      "execution_count": null,
      "outputs": []
    },
    {
      "cell_type": "code",
      "metadata": {
        "id": "VoEpFaeMCyVE"
      },
      "source": [
        "# Make predictions on testing data\n"
      ],
      "execution_count": null,
      "outputs": []
    },
    {
      "cell_type": "code",
      "metadata": {
        "id": "UypxpYH7CyVF"
      },
      "source": [
        "# Examine the evaluation results on testing data: confusion_matrix\n"
      ],
      "execution_count": null,
      "outputs": []
    },
    {
      "cell_type": "code",
      "metadata": {
        "id": "3Q4YcNMMCyVF"
      },
      "source": [
        "# Examine the evaluation results on testing data: accuracy, precision, recall, and f1-score\n"
      ],
      "execution_count": null,
      "outputs": []
    },
    {
      "cell_type": "markdown",
      "metadata": {
        "id": "u2siwNQyTuiY"
      },
      "source": [
        "## 6. Boosting ensemble prediction"
      ]
    },
    {
      "cell_type": "code",
      "metadata": {
        "id": "ZV6YlAdUTuiY"
      },
      "source": [
        "# Bagging based on decision tree model\n"
      ],
      "execution_count": null,
      "outputs": []
    },
    {
      "cell_type": "code",
      "metadata": {
        "id": "FrHzFOyCTuiZ"
      },
      "source": [
        "# Make predictions on testing data\n"
      ],
      "execution_count": null,
      "outputs": []
    },
    {
      "cell_type": "code",
      "metadata": {
        "id": "y1V6-zgPTuiZ"
      },
      "source": [
        "# Examine the evaluation results on testing data: confusion_matrix\n"
      ],
      "execution_count": null,
      "outputs": []
    },
    {
      "cell_type": "code",
      "metadata": {
        "id": "dv_dJc-JTuiZ"
      },
      "source": [
        "# Examine the evaluation results on testing data: accuracy, precision, recall, and f1-score\n"
      ],
      "execution_count": null,
      "outputs": []
    },
    {
      "cell_type": "code",
      "metadata": {
        "id": "MNRp8uoa-0g0"
      },
      "source": [
        "!jupyter nbconvert --to html \"/content/drive/MyDrive/IS470_lab/IS470_lab10.ipynb\""
      ],
      "execution_count": null,
      "outputs": []
    }
  ]
}