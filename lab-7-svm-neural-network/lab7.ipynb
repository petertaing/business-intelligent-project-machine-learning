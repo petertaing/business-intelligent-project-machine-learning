{
  "nbformat": 4,
  "nbformat_minor": 0,
  "metadata": {
    "colab": {
      "name": "IS470_lab7.ipynb",
      "provenance": [],
      "collapsed_sections": [],
      "toc_visible": true
    },
    "kernelspec": {
      "name": "python3",
      "display_name": "Python 3"
    },
    "language_info": {
      "name": "python"
    }
  },
  "cells": [
    {
      "cell_type": "markdown",
      "metadata": {
        "id": "_YEHhu06X2im"
      },
      "source": [
        "#IS 470 Lab 7: SVM and Neural Network\n",
        "\n",
        "---"
      ]
    },
    {
      "cell_type": "markdown",
      "metadata": {
        "id": "6jFjFMqAX-yp"
      },
      "source": [
        "##Part 1. SVM and Neural Network for Numeric Prediction\n",
        "<br>\n",
        "In order for a health insurance company to make money, it needs to collect more\n",
        "in yearly premiums than it spends on medical care to its beneficiaries. As a result, insurers invest a great deal of time and money in developing models that accurately forecast medical expenses for the insured population.<br>\n",
        "<br>\n",
        "Medical expenses are difficult to estimate because the most costly conditions are rare and seemingly random. Still, some conditions are more prevalent for certain segments of the population. For instance, lung cancer is more likely among smokers than non-smokers, and heart disease may be more likely among the obese.<br>\n",
        "<br>\n",
        "The goal of this analysis is to use patient data to estimate the average medical\n",
        "care expenses for such population segments. These estimates can be used to create actuarial tables that set the price of yearly premiums higher or lower, \n",
        "depending on the expected treatment costs.<br>\n",
        "<br>\n",
        "The insurance data set has 1338 observations of 7 variables.\n",
        "<br>\n",
        "We will use this file to predict the medical expenses.\n",
        "<br>\n",
        "<br>\n",
        "VARIABLE DESCRIPTIONS:<br>\n",
        "age:\t      age in years<br>\n",
        "sex:\t      gender<br>\n",
        "bmi:\t      body mass index<br>\n",
        "children:\thow many children do they have?<br>\n",
        "smoker:\t  do they smoke?<br>\n",
        "region:\t  geographic region<br>\n",
        "expenses:\tyearly medical expenses<br>"
      ]
    },
    {
      "cell_type": "markdown",
      "metadata": {
        "id": "5oShtVZkbb61"
      },
      "source": [
        "Target variable: **expenses**"
      ]
    },
    {
      "cell_type": "markdown",
      "metadata": {
        "id": "D6UCBjrtG-g6"
      },
      "source": [
        "### Upload and clean data"
      ]
    },
    {
      "cell_type": "code",
      "metadata": {
        "id": "nkqDo5OuHCQ8"
      },
      "source": [
        "# Mounting Google Drive\n",
        "from google.colab import drive\n",
        "drive.mount('/content/drive')"
      ],
      "execution_count": null,
      "outputs": []
    },
    {
      "cell_type": "code",
      "metadata": {
        "id": "4db5s5prM1z8"
      },
      "source": [
        "# Import libraries\n",
        "import pandas as pd\n",
        "import seaborn as sns\n",
        "from sklearn.model_selection import train_test_split\n",
        "from sklearn.svm import SVR\n",
        "from sklearn.neural_network import MLPRegressor\n",
        "from sklearn.metrics import mean_squared_error\n",
        "from sklearn.metrics import mean_absolute_error"
      ],
      "execution_count": null,
      "outputs": []
    },
    {
      "cell_type": "code",
      "metadata": {
        "id": "Z7vBYMeBG0ZE"
      },
      "source": [
        "# Read data\n",
        "insurance = pd.read_csv(\"/content/drive/MyDrive/IS470_data/insurance.csv\")\n",
        "insurance"
      ],
      "execution_count": null,
      "outputs": []
    },
    {
      "cell_type": "code",
      "metadata": {
        "id": "LiI3pabsNeRG"
      },
      "source": [
        "# Show the head rows of a data frame\n",
        "insurance.head()"
      ],
      "execution_count": null,
      "outputs": []
    },
    {
      "cell_type": "code",
      "metadata": {
        "id": "Sxp6-L5nNeRH"
      },
      "source": [
        "# Examine variable type\n",
        "insurance.dtypes"
      ],
      "execution_count": null,
      "outputs": []
    },
    {
      "cell_type": "code",
      "metadata": {
        "id": "0Tdv67wRNeRH"
      },
      "source": [
        "# Change categorical variables to \"category\"\n",
        "insurance['sex'] = insurance['sex'].astype('category')\n",
        "insurance['smoker'] = insurance['smoker'].astype('category')\n",
        "insurance['region'] = insurance['region'].astype('category')"
      ],
      "execution_count": null,
      "outputs": []
    },
    {
      "cell_type": "code",
      "metadata": {
        "id": "UPWSMKGRpWAj"
      },
      "source": [
        "# Examine variable type\n",
        "insurance.dtypes"
      ],
      "execution_count": null,
      "outputs": []
    },
    {
      "cell_type": "code",
      "metadata": {
        "id": "UzKcJa847XtX"
      },
      "source": [
        "# Data exploration: some examples\n",
        "# Histogram of insurance expenses\n",
        "snsplot = sns.histplot(x='expenses', data = insurance)\n",
        "snsplot.set_title(\"Histogram of expenses in the insurance data set\")"
      ],
      "execution_count": null,
      "outputs": []
    },
    {
      "cell_type": "code",
      "metadata": {
        "id": "DOeahm-d7eqy"
      },
      "source": [
        "# exploring relationships among all numeric variables: correlation matrix\n",
        "insurance.corr()"
      ],
      "execution_count": null,
      "outputs": []
    },
    {
      "cell_type": "markdown",
      "metadata": {
        "id": "a3baHs-sknIT"
      },
      "source": [
        "### Partition the data set"
      ]
    },
    {
      "cell_type": "code",
      "metadata": {
        "id": "PGheFILukrMR"
      },
      "source": [
        "# Create dummy variables\n",
        "insurance = pd.get_dummies(insurance, columns=['sex','smoker','region'], drop_first=True)\n",
        "insurance"
      ],
      "execution_count": null,
      "outputs": []
    },
    {
      "cell_type": "code",
      "metadata": {
        "id": "UfxzlCPBnZ-4"
      },
      "source": [
        "# Partition the data\n",
        "target = insurance['expenses']\n",
        "predictors = insurance.drop(['expenses'],axis=1)\n",
        "predictors_train_insurance, predictors_test_insurance, target_train_insurance, target_test_insurance = train_test_split(predictors, target, test_size=0.3, random_state=0)\n",
        "print(predictors_train_insurance.shape, predictors_test_insurance.shape, target_train_insurance.shape, target_test_insurance.shape)"
      ],
      "execution_count": null,
      "outputs": []
    },
    {
      "cell_type": "code",
      "metadata": {
        "id": "j6Y5U91BoVmf"
      },
      "source": [
        "# Examine the distribution of target variable for training data set\n",
        "snsplot = sns.histplot(data = target_train_insurance)\n",
        "snsplot.set_title(\"Histogram of expenses in the training data set\")"
      ],
      "execution_count": null,
      "outputs": []
    },
    {
      "cell_type": "code",
      "metadata": {
        "id": "MasSsm8apCG-"
      },
      "source": [
        "# Examine the distribution of target variable for testing data set\n",
        "snsplot = sns.histplot(data = target_test_insurance)\n",
        "snsplot.set_title(\"Histogram of expenses in the testing data set\")"
      ],
      "execution_count": null,
      "outputs": []
    },
    {
      "cell_type": "markdown",
      "metadata": {
        "id": "xt0XU6fmplzw"
      },
      "source": [
        "### SVM model"
      ]
    },
    {
      "cell_type": "code",
      "metadata": {
        "id": "yi8FlSIQpB_X"
      },
      "source": [
        "# Build a SVM model with default setting (C = 1.0)\n"
      ],
      "execution_count": null,
      "outputs": []
    },
    {
      "cell_type": "code",
      "metadata": {
        "id": "s3BPoqH0tuDd"
      },
      "source": [
        "# Make predictions on testing data\n"
      ],
      "execution_count": null,
      "outputs": []
    },
    {
      "cell_type": "code",
      "metadata": {
        "id": "Mp2hbRzywpGd"
      },
      "source": [
        "# Examine the evaluation results on testing data: MAE and RMSE\n"
      ],
      "execution_count": null,
      "outputs": []
    },
    {
      "cell_type": "code",
      "metadata": {
        "id": "8pdVl1AXjNt1"
      },
      "source": [
        "# Build a SVM model with C = 10.0\n"
      ],
      "execution_count": null,
      "outputs": []
    },
    {
      "cell_type": "code",
      "metadata": {
        "id": "RUjqPabsjNt4"
      },
      "source": [
        "# Make predictions on testing data\n"
      ],
      "execution_count": null,
      "outputs": []
    },
    {
      "cell_type": "code",
      "metadata": {
        "id": "fgZnjbwkjNt4"
      },
      "source": [
        "# Examine the evaluation results on testing data: MAE and RMSE\n"
      ],
      "execution_count": null,
      "outputs": []
    },
    {
      "cell_type": "code",
      "metadata": {
        "id": "UN9VEJxVjY8p"
      },
      "source": [
        "# Build a SVM model with C = 100.0\n"
      ],
      "execution_count": null,
      "outputs": []
    },
    {
      "cell_type": "code",
      "metadata": {
        "id": "H2ym5b33jY8p"
      },
      "source": [
        "# Make predictions on testing data\n"
      ],
      "execution_count": null,
      "outputs": []
    },
    {
      "cell_type": "code",
      "metadata": {
        "id": "lEMZqzAHjY8p"
      },
      "source": [
        "# Examine the evaluation results on testing data: MAE and RMSE\n"
      ],
      "execution_count": null,
      "outputs": []
    },
    {
      "cell_type": "markdown",
      "metadata": {
        "id": "XkCOmGcxS29U"
      },
      "source": [
        "Q1. Which C value provides the best performance?<br>\n"
      ]
    },
    {
      "cell_type": "markdown",
      "metadata": {
        "id": "uLu_VRc7TaXg"
      },
      "source": [
        "Q2. How dose the cost parameter C impact SVM model performance?<br>"
      ]
    },
    {
      "cell_type": "markdown",
      "metadata": {
        "id": "f1rfjLVITC-c"
      },
      "source": [
        "Q3. Assume that you will lose each dollar your model’s prediction misses due to an over-estimation or under-estimation. Which evaluation metric you should use?<br>\n"
      ]
    },
    {
      "cell_type": "markdown",
      "metadata": {
        "id": "hdOdCoswTNPy"
      },
      "source": [
        "Q4. Assume that the penalty for an erroneous prediction increases with the difference between the actual and predicted values. Which evaluation metric you should use?<br>\n"
      ]
    },
    {
      "cell_type": "markdown",
      "metadata": {
        "id": "lB-wUko0arCZ"
      },
      "source": [
        "### MLP model"
      ]
    },
    {
      "cell_type": "code",
      "metadata": {
        "id": "3TDicfX0TvcG"
      },
      "source": [
        "#Build MLP model contains two hidden layers: 16 hidden nodes for the first layer, and 8 hidden nodes for the second layer. Set random_state=1.\n"
      ],
      "execution_count": null,
      "outputs": []
    },
    {
      "cell_type": "code",
      "metadata": {
        "id": "JbDs7U7dU-XK"
      },
      "source": [
        "# Make predictions on testing data\n"
      ],
      "execution_count": null,
      "outputs": []
    },
    {
      "cell_type": "code",
      "metadata": {
        "id": "cfbkOz31U-XK"
      },
      "source": [
        "# Examine the evaluation results on testing data: MAE and RMSE\n"
      ],
      "execution_count": null,
      "outputs": []
    },
    {
      "cell_type": "code",
      "metadata": {
        "id": "8ZxdDU4EXlUz"
      },
      "source": [
        "# Build MLP model contains three hidden layers: 8 hidden nodes for the first layer, 4 hidden nodes for the second layer, and 4 hidden nodes for the third layer. Set random_state=1.\n"
      ],
      "execution_count": null,
      "outputs": []
    },
    {
      "cell_type": "code",
      "metadata": {
        "id": "E6NbcGrIXlUz"
      },
      "source": [
        "# Make predictions on testing data\n"
      ],
      "execution_count": null,
      "outputs": []
    },
    {
      "cell_type": "code",
      "metadata": {
        "id": "QA0c_WBLXlUz"
      },
      "source": [
        "# Examine the evaluation results on testing data: MAE and RMSE\n"
      ],
      "execution_count": null,
      "outputs": []
    },
    {
      "cell_type": "markdown",
      "metadata": {
        "id": "ojFmlkFTW7gq"
      },
      "source": [
        "##Part 2. SVM and Neural Network for classification\n",
        "<br>\n",
        "This data set contains information of cars purchased at the Auction.\n",
        "<br>\n",
        "We will use this file to predict the quality of buying decisions and visualize decision processes.\n",
        "<br>\n",
        "<br>\n",
        "VARIABLE DESCRIPTIONS:<br>\n",
        "Auction: Auction provider at which the  vehicle was purchased<br>\n",
        "Color: Vehicle Color<br>\n",
        "IsBadBuy: Identifies if the kicked vehicle was an avoidable purchase<br>\n",
        "MMRCurrentAuctionAveragePrice: Acquisition price for this vehicle in average condition as of current day<br>\n",
        "Size: The size category of the vehicle (Compact, SUV, etc.)<br>\n",
        "TopThreeAmericanName:Identifies if the manufacturer is one of the top three American manufacturers<br>\n",
        "VehBCost: Acquisition cost paid for the vehicle at time of purchase<br>\n",
        "VehicleAge: The Years elapsed since the manufacturer's year<br>\n",
        "VehOdo: The vehicles odometer reading<br>\n",
        "WarrantyCost: Warranty price (term=36month  and millage=36K)<br>\n",
        "WheelType: The vehicle wheel type description (Alloy, Covers)<br>\n"
      ]
    },
    {
      "cell_type": "markdown",
      "metadata": {
        "id": "skx5a176bVVL"
      },
      "source": [
        "Target variable: **IsBadBuy**"
      ]
    },
    {
      "cell_type": "markdown",
      "metadata": {
        "id": "u-ck6-3IWtZH"
      },
      "source": [
        "### Upload and clean data"
      ]
    },
    {
      "cell_type": "code",
      "metadata": {
        "id": "ZnQiTBlwXMy6"
      },
      "source": [
        "# Import libraries\n",
        "import pandas as pd\n",
        "import seaborn as sns\n",
        "from sklearn.model_selection import train_test_split\n",
        "from sklearn.svm import SVC\n",
        "from sklearn.neural_network import MLPClassifier\n",
        "from matplotlib import pyplot as plt\n",
        "from sklearn.metrics import plot_confusion_matrix\n",
        "from sklearn.metrics import classification_report"
      ],
      "execution_count": null,
      "outputs": []
    },
    {
      "cell_type": "code",
      "metadata": {
        "id": "x7tUkfHMXMy6"
      },
      "source": [
        "# Read data\n",
        "carAuction = pd.read_csv(\"/content/drive/MyDrive/IS470_data/carAuction.csv\")\n",
        "carAuction"
      ],
      "execution_count": null,
      "outputs": []
    },
    {
      "cell_type": "code",
      "metadata": {
        "id": "25K52c1DXMy7"
      },
      "source": [
        "# Show the head rows of a data frame\n",
        "carAuction.head()"
      ],
      "execution_count": null,
      "outputs": []
    },
    {
      "cell_type": "code",
      "metadata": {
        "id": "INl89rwqXMy7"
      },
      "source": [
        "# Examine variable type\n",
        "carAuction.dtypes"
      ],
      "execution_count": null,
      "outputs": []
    },
    {
      "cell_type": "code",
      "metadata": {
        "id": "OS1LVmWVXMy7"
      },
      "source": [
        "# Change categorical variables to \"category\"\n",
        "carAuction['Auction'] = carAuction['Auction'].astype('category')\n",
        "carAuction['Color'] = carAuction['Color'].astype('category')\n",
        "carAuction['IsBadBuy'] = carAuction['IsBadBuy'].astype('category')\n",
        "carAuction['Size'] = carAuction['Size'].astype('category')\n",
        "carAuction['TopThreeAmericanName'] = carAuction['TopThreeAmericanName'].astype('category')\n",
        "carAuction['WheelType'] = carAuction['WheelType'].astype('category')"
      ],
      "execution_count": null,
      "outputs": []
    },
    {
      "cell_type": "code",
      "metadata": {
        "id": "N3cRTS8oXMy7"
      },
      "source": [
        "# Examine variable type\n",
        "carAuction.dtypes"
      ],
      "execution_count": null,
      "outputs": []
    },
    {
      "cell_type": "markdown",
      "metadata": {
        "id": "DwKUtytnXMy7"
      },
      "source": [
        "###2. Partition the data set"
      ]
    },
    {
      "cell_type": "code",
      "metadata": {
        "id": "FRKs5GUnXMy8"
      },
      "source": [
        "# Create dummy variables\n",
        "carAuction = pd.get_dummies(carAuction, columns=['Auction','Color','Size','TopThreeAmericanName','WheelType'], drop_first=True)\n",
        "carAuction"
      ],
      "execution_count": null,
      "outputs": []
    },
    {
      "cell_type": "code",
      "metadata": {
        "id": "FcRBThpIXMy8"
      },
      "source": [
        "# Partition the data\n",
        "target = carAuction['IsBadBuy']\n",
        "predictors = carAuction.drop(['IsBadBuy'],axis=1)\n",
        "predictors_train_car, predictors_test_car, target_train_car, target_test_car = train_test_split(predictors, target, test_size=0.3, random_state=0)\n",
        "print(predictors_train_car.shape, predictors_test_car.shape, target_train_car.shape, target_test_car.shape)"
      ],
      "execution_count": null,
      "outputs": []
    },
    {
      "cell_type": "code",
      "metadata": {
        "id": "H43gAl5tXMy8"
      },
      "source": [
        "# Examine the porportion of target variable for training data set\n",
        "print(target_train_car.value_counts(normalize=True))"
      ],
      "execution_count": null,
      "outputs": []
    },
    {
      "cell_type": "code",
      "metadata": {
        "id": "p66TPAnoXMy8"
      },
      "source": [
        "# Examine the porportion of target variable for testing data set\n",
        "print(target_test_car.value_counts(normalize=True))"
      ],
      "execution_count": null,
      "outputs": []
    },
    {
      "cell_type": "markdown",
      "metadata": {
        "id": "WiF3FbYJcQpi"
      },
      "source": [
        "### SVM model"
      ]
    },
    {
      "cell_type": "code",
      "metadata": {
        "id": "4TGapKnqcQps"
      },
      "source": [
        "# Build a SVM model with default setting (C = 1.0)\n"
      ],
      "execution_count": null,
      "outputs": []
    },
    {
      "cell_type": "code",
      "metadata": {
        "id": "MqzC8zQpcQpt"
      },
      "source": [
        "# Make predictions on testing data\n"
      ],
      "execution_count": null,
      "outputs": []
    },
    {
      "cell_type": "code",
      "metadata": {
        "id": "MPzSFw1Wdb4v"
      },
      "source": [
        "# Examine the evaluation results on testing data: confusion_matrix\n"
      ],
      "execution_count": null,
      "outputs": []
    },
    {
      "cell_type": "code",
      "metadata": {
        "id": "JnI7ioz-xBN0"
      },
      "source": [
        "# Examine the evaluation results on testing data: accuracy, precision, recall, and f1-score\n"
      ],
      "execution_count": null,
      "outputs": []
    },
    {
      "cell_type": "markdown",
      "metadata": {
        "id": "pC3n5xiwcQpv"
      },
      "source": [
        "### MLP model"
      ]
    },
    {
      "cell_type": "code",
      "metadata": {
        "id": "joNswYJAcQpv"
      },
      "source": [
        "#Build MLP model contains two hidden layers: 16 hidden nodes for the first layer, and 10 hidden nodes for the second layer. Set random_state=1.\n"
      ],
      "execution_count": null,
      "outputs": []
    },
    {
      "cell_type": "code",
      "metadata": {
        "id": "s7Q6_sfRcQpw"
      },
      "source": [
        "# Make predictions on testing data\n"
      ],
      "execution_count": null,
      "outputs": []
    },
    {
      "cell_type": "code",
      "metadata": {
        "id": "TxFKgadggybp"
      },
      "source": [
        "# Examine the evaluation results on testing data: confusion_matrix\n"
      ],
      "execution_count": null,
      "outputs": []
    },
    {
      "cell_type": "code",
      "metadata": {
        "id": "yX4ml5LJgybp"
      },
      "source": [
        "# Examine the evaluation results on testing data: accuracy, precision, recall, and f1-score\n"
      ],
      "execution_count": null,
      "outputs": []
    },
    {
      "cell_type": "markdown",
      "metadata": {
        "id": "TSCgO21Whdap"
      },
      "source": [
        "Q5. Which model has better performance on carAuction data, SVM or neural network? why?<br>\n"
      ]
    },
    {
      "cell_type": "code",
      "metadata": {
        "id": "MNRp8uoa-0g0"
      },
      "source": [
        "!jupyter nbconvert --to html \"/content/drive/MyDrive/IS470_lab/IS470_lab7.ipynb\""
      ],
      "execution_count": null,
      "outputs": []
    }
  ]
}