{
  "nbformat": 4,
  "nbformat_minor": 0,
  "metadata": {
    "colab": {
      "name": "IS470_lab6.ipynb",
      "provenance": [],
      "collapsed_sections": [],
      "toc_visible": true
    },
    "kernelspec": {
      "name": "python3",
      "display_name": "Python 3"
    },
    "language_info": {
      "name": "python"
    }
  },
  "cells": [
    {
      "cell_type": "markdown",
      "metadata": {
        "id": "_YEHhu06X2im"
      },
      "source": [
        "#IS 470 Lab 6: Numeric Prediction--Regression Methods\n",
        "\n",
        "---"
      ]
    },
    {
      "cell_type": "markdown",
      "metadata": {
        "id": "6jFjFMqAX-yp"
      },
      "source": [
        "In order for a health insurance company to make money, it needs to collect more\n",
        "in yearly premiums than it spends on medical care to its beneficiaries. As a result, insurers invest a great deal of time and money in developing models that accurately forecast medical expenses for the insured population.<br>\n",
        "<br>\n",
        "Medical expenses are difficult to estimate because the most costly conditions are rare and seemingly random. Still, some conditions are more prevalent for certain segments of the population. For instance, lung cancer is more likely among smokers than non-smokers, and heart disease may be more likely among the obese.<br>\n",
        "<br>\n",
        "The goal of this analysis is to use patient data to estimate the average medical\n",
        "care expenses for such population segments. These estimates can be used to create actuarial tables that set the price of yearly premiums higher or lower, \n",
        "depending on the expected treatment costs.<br>\n",
        "<br>\n",
        "The insurance data set has 1338 observations of 7 variables.\n",
        "<br>\n",
        "We will use this file to predict the medical expenses.\n",
        "<br>\n",
        "<br>\n",
        "VARIABLE DESCRIPTIONS:<br>\n",
        "age:\t      age in years<br>\n",
        "sex:\t      gender<br>\n",
        "bmi:\t      body mass index<br>\n",
        "children:\thow many children do they have?<br>\n",
        "smoker:\t  do they smoke?<br>\n",
        "region:\t  geographic region<br>\n",
        "expenses:\tyearly medical expenses<br>\n",
        "<br>\n",
        "Target variable: **expenses**"
      ]
    },
    {
      "cell_type": "markdown",
      "metadata": {
        "id": "D6UCBjrtG-g6"
      },
      "source": [
        "### 1.Upload and clean data"
      ]
    },
    {
      "cell_type": "code",
      "metadata": {
        "id": "nkqDo5OuHCQ8"
      },
      "source": [
        "# Mounting Google Drive\n",
        "from google.colab import drive\n",
        "drive.mount('/content/drive')"
      ],
      "execution_count": null,
      "outputs": []
    },
    {
      "cell_type": "code",
      "metadata": {
        "id": "4db5s5prM1z8"
      },
      "source": [
        "# Import libraries\n",
        "! pip install regressors\n",
        "import pandas as pd\n",
        "import seaborn as sns\n",
        "from sklearn.model_selection import train_test_split\n",
        "from sklearn import linear_model\n",
        "from sklearn.tree import DecisionTreeRegressor\n",
        "from regressors import stats\n",
        "from sklearn.metrics import mean_squared_error\n",
        "from sklearn.metrics import mean_absolute_error"
      ],
      "execution_count": null,
      "outputs": []
    },
    {
      "cell_type": "code",
      "metadata": {
        "id": "Z7vBYMeBG0ZE"
      },
      "source": [
        "# Read data\n",
        "insurance = pd.read_csv(\"/content/drive/MyDrive/IS470_data/insurance.csv\")\n",
        "insurance"
      ],
      "execution_count": null,
      "outputs": []
    },
    {
      "cell_type": "code",
      "metadata": {
        "id": "LiI3pabsNeRG"
      },
      "source": [
        "# Show the head rows of a data frame\n",
        "insurance.head()"
      ],
      "execution_count": null,
      "outputs": []
    },
    {
      "cell_type": "code",
      "metadata": {
        "id": "Sxp6-L5nNeRH"
      },
      "source": [
        "# Examine variable type\n",
        "insurance.dtypes"
      ],
      "execution_count": null,
      "outputs": []
    },
    {
      "cell_type": "code",
      "metadata": {
        "id": "0Tdv67wRNeRH"
      },
      "source": [
        "# Change categorical variables to \"category\"\n",
        "insurance['sex'] = insurance['sex'].astype('category')\n",
        "insurance['smoker'] = insurance['smoker'].astype('category')\n",
        "insurance['region'] = insurance['region'].astype('category')"
      ],
      "execution_count": null,
      "outputs": []
    },
    {
      "cell_type": "code",
      "metadata": {
        "id": "UPWSMKGRpWAj"
      },
      "source": [
        "# Examine variable type\n",
        "insurance.dtypes"
      ],
      "execution_count": null,
      "outputs": []
    },
    {
      "cell_type": "code",
      "metadata": {
        "id": "UzKcJa847XtX"
      },
      "source": [
        "# Data exploration: some examples\n",
        "# Histogram of insurance expenses\n",
        "snsplot = sns.histplot(x='expenses', data = insurance)\n",
        "snsplot.set_title(\"Histogram of expenses in the insurance data set\")"
      ],
      "execution_count": null,
      "outputs": []
    },
    {
      "cell_type": "code",
      "metadata": {
        "id": "DOeahm-d7eqy"
      },
      "source": [
        "# exploring relationships among all numeric variables: correlation matrix\n",
        "insurance.corr()"
      ],
      "execution_count": null,
      "outputs": []
    },
    {
      "cell_type": "markdown",
      "metadata": {
        "id": "a3baHs-sknIT"
      },
      "source": [
        "### 2.Partition the data set for regression model"
      ]
    },
    {
      "cell_type": "code",
      "metadata": {
        "id": "PGheFILukrMR"
      },
      "source": [
        "# Create dummy variables\n",
        "insurance = pd.get_dummies(insurance, columns=['sex','smoker','region'], drop_first=True)\n",
        "insurance"
      ],
      "execution_count": null,
      "outputs": []
    },
    {
      "cell_type": "code",
      "metadata": {
        "id": "UfxzlCPBnZ-4"
      },
      "source": [
        "# Partition the data\n",
        "target = insurance['expenses']\n",
        "predictors = insurance.drop(['expenses'],axis=1)\n",
        "predictors_train, predictors_test, target_train, target_test = train_test_split(predictors, target, test_size=0.3, random_state=0)\n",
        "print(predictors_train.shape, predictors_test.shape, target_train.shape, target_test.shape)"
      ],
      "execution_count": null,
      "outputs": []
    },
    {
      "cell_type": "code",
      "metadata": {
        "id": "j6Y5U91BoVmf"
      },
      "source": [
        "# Examine the distribution of target variable for training data set\n",
        "snsplot = sns.histplot(data = target_train)\n",
        "snsplot.set_title(\"Histogram of expenses in the training data set\")"
      ],
      "execution_count": null,
      "outputs": []
    },
    {
      "cell_type": "code",
      "metadata": {
        "id": "MasSsm8apCG-"
      },
      "source": [
        "# Examine the distribution of target variable for testing data set\n",
        "snsplot = sns.histplot(data = target_test)\n",
        "snsplot.set_title(\"Histogram of expenses in the testing data set\")"
      ],
      "execution_count": null,
      "outputs": []
    },
    {
      "cell_type": "markdown",
      "metadata": {
        "id": "xt0XU6fmplzw"
      },
      "source": [
        "## 3.Simple linear regression"
      ]
    },
    {
      "cell_type": "code",
      "metadata": {
        "id": "yi8FlSIQpB_X"
      },
      "source": [
        "# Build a simple linear regression model with only bmi as predictor\n",
        "model1 = linear_model.LinearRegression()\n",
        "model1.fit(predictors_train[['bmi']], target_train)"
      ],
      "execution_count": null,
      "outputs": []
    },
    {
      "cell_type": "code",
      "metadata": {
        "id": "aLtDOmUBClam"
      },
      "source": [
        "# Show model summary\n",
        "predictor_names = predictors_train[['bmi']].columns.values\n",
        "stats.summary(model1, predictors_train[['bmi']], target_train, predictor_names)"
      ],
      "execution_count": null,
      "outputs": []
    },
    {
      "cell_type": "markdown",
      "metadata": {
        "id": "zGt16eJxVHvg"
      },
      "source": [
        "Q1. How the expenses change when we increase the bmi by 1? <br>\n"
      ]
    },
    {
      "cell_type": "code",
      "metadata": {
        "id": "s3BPoqH0tuDd"
      },
      "source": [
        "# Make predictions on testing data\n",
        "prediction_on_test = model1.predict(predictors_test[['bmi']])"
      ],
      "execution_count": null,
      "outputs": []
    },
    {
      "cell_type": "code",
      "metadata": {
        "id": "Mp2hbRzywpGd"
      },
      "source": [
        "# Examine the evaluation results on testing data: MAE and RMSE\n",
        "MAE = mean_absolute_error(target_test, prediction_on_test)\n",
        "RMSE = mean_squared_error(target_test, prediction_on_test, squared=False)\n",
        "print(\"MAE:\", MAE)\n",
        "print(\"RMSE:\", RMSE)"
      ],
      "execution_count": null,
      "outputs": []
    },
    {
      "cell_type": "markdown",
      "metadata": {
        "id": "tWwXb1A2UKWQ"
      },
      "source": [
        "## 4.Multiple linear regression"
      ]
    },
    {
      "cell_type": "code",
      "metadata": {
        "id": "8GGi-hmlUKWR"
      },
      "source": [
        "# Build a multiple linear regression model with all predictors\n",
        "model2 = linear_model.LinearRegression()\n",
        "model2.fit(predictors_train, target_train)"
      ],
      "execution_count": null,
      "outputs": []
    },
    {
      "cell_type": "code",
      "metadata": {
        "id": "jGgPdIZJUKWR"
      },
      "source": [
        "# Show model summary\n",
        "predictor_names = predictors_train.columns.values\n",
        "stats.summary(model2, predictors_train, target_train, predictor_names)"
      ],
      "execution_count": null,
      "outputs": []
    },
    {
      "cell_type": "markdown",
      "metadata": {
        "id": "foysXHb5Vcu2"
      },
      "source": [
        "Q2. How the expenses change when we increase the bmi by 1? <br>\n"
      ]
    },
    {
      "cell_type": "markdown",
      "metadata": {
        "id": "oa8AJKpkVoJA"
      },
      "source": [
        "Q3. Do you think bmi is important in predicting expenses? why? <br>\n"
      ]
    },
    {
      "cell_type": "code",
      "metadata": {
        "id": "w8grK6gzUKWS"
      },
      "source": [
        "# Make predictions on testing data\n",
        "prediction_on_test = model2.predict(predictors_test)"
      ],
      "execution_count": null,
      "outputs": []
    },
    {
      "cell_type": "code",
      "metadata": {
        "id": "hErfOCdMUKWS"
      },
      "source": [
        "# Examine the evaluation results on testing data: MAE and RMSE\n",
        "MAE = mean_absolute_error(target_test, prediction_on_test)\n",
        "RMSE = mean_squared_error(target_test, prediction_on_test, squared=False)\n",
        "print(\"MAE:\", MAE)\n",
        "print(\"RMSE:\", RMSE)"
      ],
      "execution_count": null,
      "outputs": []
    },
    {
      "cell_type": "markdown",
      "metadata": {
        "id": "7seOb_iXV8Mf"
      },
      "source": [
        "## 5.Improving Model Performance:  Adding non-linear relationships"
      ]
    },
    {
      "cell_type": "markdown",
      "metadata": {
        "id": "XMZhNDcK_Vla"
      },
      "source": [
        "Add a higher-order \"age\" term"
      ]
    },
    {
      "cell_type": "code",
      "metadata": {
        "id": "AAda0cVFWAdz"
      },
      "source": [
        "# add a higher-order \"age\" term\n"
      ],
      "execution_count": null,
      "outputs": []
    },
    {
      "cell_type": "code",
      "metadata": {
        "id": "u8lY8oti-SV_"
      },
      "source": [
        "# Partition the data\n"
      ],
      "execution_count": null,
      "outputs": []
    },
    {
      "cell_type": "code",
      "metadata": {
        "id": "3952e0Xk-VRt"
      },
      "source": [
        "# Build a linear regression model with non-linear relationships\n"
      ],
      "execution_count": null,
      "outputs": []
    },
    {
      "cell_type": "code",
      "metadata": {
        "id": "nRzZf6WG-XtH"
      },
      "source": [
        "# Show model summary\n"
      ],
      "execution_count": null,
      "outputs": []
    },
    {
      "cell_type": "code",
      "metadata": {
        "id": "1qixSZMz-a3y"
      },
      "source": [
        "# Make predictions on testing data\n"
      ],
      "execution_count": null,
      "outputs": []
    },
    {
      "cell_type": "code",
      "metadata": {
        "id": "9d3VVyMd-dZ1"
      },
      "source": [
        "# Examine the evaluation results on testing data: MAE and RMSE\n"
      ],
      "execution_count": null,
      "outputs": []
    },
    {
      "cell_type": "markdown",
      "metadata": {
        "id": "M1Rj7HO3_NTw"
      },
      "source": [
        "Add an interaction effect:"
      ]
    },
    {
      "cell_type": "code",
      "metadata": {
        "id": "2b7Yjh23WD0W"
      },
      "source": [
        "# add an indicator for BMI >= 30\n",
        "insurance.loc[insurance['bmi'] >= 30, 'bmi30'] = 1\n",
        "insurance.loc[insurance['bmi'] < 30, 'bmi30'] = 0\n",
        "insurance['bmi30'] = insurance['bmi30'].astype('category')"
      ],
      "execution_count": null,
      "outputs": []
    },
    {
      "cell_type": "code",
      "metadata": {
        "id": "genLYyz4ZChm"
      },
      "source": [
        "# add an interaction effects bmi30*smoker\n",
        "insurance['bmi30_smoker'] = insurance['bmi30'].astype(float) * insurance['smoker_yes'].astype(float)"
      ],
      "execution_count": null,
      "outputs": []
    },
    {
      "cell_type": "code",
      "metadata": {
        "id": "6objNntUWFfe"
      },
      "source": [
        "insurance"
      ],
      "execution_count": null,
      "outputs": []
    },
    {
      "cell_type": "code",
      "metadata": {
        "id": "aZCu2I5bY9y5"
      },
      "source": [
        "# Partition the data\n",
        "target = insurance['expenses']\n",
        "predictors = insurance.drop(['expenses'],axis=1)\n",
        "predictors_train, predictors_test, target_train, target_test = train_test_split(predictors, target, test_size=0.3, random_state=0)\n",
        "print(predictors_train.shape, predictors_test.shape, target_train.shape, target_test.shape)"
      ],
      "execution_count": null,
      "outputs": []
    },
    {
      "cell_type": "code",
      "metadata": {
        "id": "k5_-_RIBV8Mg"
      },
      "source": [
        "# Build a linear regression model with non-linear relationships\n"
      ],
      "execution_count": null,
      "outputs": []
    },
    {
      "cell_type": "code",
      "metadata": {
        "id": "WijBwzw4aBNs"
      },
      "source": [
        "# Show model summary\n"
      ],
      "execution_count": null,
      "outputs": []
    },
    {
      "cell_type": "code",
      "metadata": {
        "id": "gbJGT_UKaM_L"
      },
      "source": [
        "# Make predictions on testing data\n"
      ],
      "execution_count": null,
      "outputs": []
    },
    {
      "cell_type": "code",
      "metadata": {
        "id": "8YZGQvzUaM_L"
      },
      "source": [
        "# Examine the evaluation results on testing data: MAE and RMSE\n"
      ],
      "execution_count": null,
      "outputs": []
    },
    {
      "cell_type": "markdown",
      "metadata": {
        "id": "ahgldnbVzVuI"
      },
      "source": [
        "Q4. Compared to the previous model (model2), does this model (model4) has better performance? why?<br>\n"
      ]
    },
    {
      "cell_type": "markdown",
      "metadata": {
        "id": "lB-wUko0arCZ"
      },
      "source": [
        "## 6.Regression Tree"
      ]
    },
    {
      "cell_type": "code",
      "metadata": {
        "id": "jMmSdnRPBKKV"
      },
      "source": [
        "# Partition the data\n"
      ],
      "execution_count": null,
      "outputs": []
    },
    {
      "cell_type": "code",
      "metadata": {
        "id": "f0tLLjHZbRZX"
      },
      "source": [
        "# Build a regression tree model with max_depth=3\n"
      ],
      "execution_count": null,
      "outputs": []
    },
    {
      "cell_type": "code",
      "metadata": {
        "id": "sMDLeB4KBjyu"
      },
      "source": [
        "# plot the tree\n"
      ],
      "execution_count": null,
      "outputs": []
    },
    {
      "cell_type": "code",
      "metadata": {
        "id": "sufnururcEE9"
      },
      "source": [
        "# Make predictions on testing data\n"
      ],
      "execution_count": null,
      "outputs": []
    },
    {
      "cell_type": "code",
      "metadata": {
        "id": "lUR5KwKscEFG"
      },
      "source": [
        "# Examine the evaluation results on testing data: MAE and RMSE\n"
      ],
      "execution_count": null,
      "outputs": []
    },
    {
      "cell_type": "markdown",
      "metadata": {
        "id": "0M2GbKLVF1em"
      },
      "source": [
        "***Download the html file and submit to BeachBoard***<br>\n",
        "<br>\n",
        "1.   ***Download the lab6.ipynb file***\n",
        "2.   ***Upload the lab6.ipynb file***\n",
        "3.   ***Run the code below to generate a html file***\n",
        "4.   ***Download the html file and submit to BeachBoard***"
      ]
    },
    {
      "cell_type": "code",
      "metadata": {
        "id": "MNRp8uoa-0g0"
      },
      "source": [
        "!jupyter nbconvert --to html \"/content/drive/MyDrive/IS470_lab/IS470_lab6.ipynb\""
      ],
      "execution_count": null,
      "outputs": []
    }
  ]
}