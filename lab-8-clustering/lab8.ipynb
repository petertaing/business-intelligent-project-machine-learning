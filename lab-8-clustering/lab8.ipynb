{
  "nbformat": 4,
  "nbformat_minor": 0,
  "metadata": {
    "colab": {
      "name": "IS470_lab8.ipynb",
      "provenance": [],
      "collapsed_sections": [],
      "toc_visible": true
    },
    "kernelspec": {
      "name": "python3",
      "display_name": "Python 3"
    },
    "language_info": {
      "name": "python"
    }
  },
  "cells": [
    {
      "cell_type": "markdown",
      "metadata": {
        "id": "_YEHhu06X2im"
      },
      "source": [
        "#IS 470 Lab 8: Clustering\n",
        "\n",
        "---\n",
        "You have been given a data file by the San Francisco Bay Area Rapid Transit (BART), which identifies a set of demographics for residents in a local area. We will use this file to determine residents segmentations so that we can use it to develop marketing plans accordingly.<br>\n",
        "<br>\n",
        "VARIABLE DESCRIPTIONS:<br>\n",
        "<br>\n",
        "Age:  \n",
        "\n",
        "            1.   14 thru 17\n",
        "            2.   18 thru 24\n",
        "            3.   25 thru 34\n",
        "            4.   35 thru 44\n",
        "            5.   45 thru 54\n",
        "            6.   55 thru 64\n",
        "            7.   65 and Over\n",
        "\n",
        "DistToWork: Distance to work in miles<br>\n",
        "DualInc: Is dual income household or not<br>\n",
        "Education:  \n",
        "            \n",
        "            1. Grade 8 or less<br>\n",
        "            2. Grades 9 to 11<br>\n",
        "            3. Graduated high school<br>\n",
        "            4. 1 to 3 years of college<br>\n",
        "            5. College graduate<br>\n",
        "            6. Grad Study<br>\n",
        "Gender:\tM or F<br>\n",
        "Income: \n",
        "        \n",
        "            1. Less than $10,000<br>\n",
        "            2. $10,000 to $14,999<br>\n",
        "            3. $15,000 to $19,999<br>\n",
        "            4. $20,000 to $24,999<br>\n",
        "            5. $25,000 to $29,999<br>\n",
        "            6. $30,000 to $39,999<br>\n",
        "            7. $40,000 to $49,999<br>\n",
        "            8. $50,000 to $74,999<br>\n",
        "            9. $75,000 or more<br>\n",
        "Language:\tLanguage spoken at home<br>\n",
        "NbrInHouseHold:\tNumber in household<br>\n",
        "NbrInHouseholdUnder18:\tNumber in household under 18 years old<br>\n",
        "OwnRent:\tOwn, rent, or live with parents<br>\n",
        "YrsInArea:\tYears lived in bay area<br>\n",
        "Rider:\tNo, Non-rider; Yes, Rider<br>"
      ]
    },
    {
      "cell_type": "markdown",
      "metadata": {
        "id": "D6UCBjrtG-g6"
      },
      "source": [
        "###1. Upload and clean data"
      ]
    },
    {
      "cell_type": "code",
      "metadata": {
        "id": "nkqDo5OuHCQ8"
      },
      "source": [
        "# Mounting Google Drive\n",
        "from google.colab import drive\n",
        "drive.mount('/content/drive')"
      ],
      "execution_count": null,
      "outputs": []
    },
    {
      "cell_type": "code",
      "metadata": {
        "id": "4db5s5prM1z8"
      },
      "source": [
        "# Import libraries\n",
        "import pandas as pd\n",
        "from sklearn.cluster import KMeans\n",
        "from collections import Counter\n",
        "from sklearn import preprocessing\n",
        "from matplotlib import pyplot as plt"
      ],
      "execution_count": 3,
      "outputs": []
    },
    {
      "cell_type": "code",
      "metadata": {
        "id": "Z7vBYMeBG0ZE"
      },
      "source": [
        "# Read data\n",
        "BartRider = pd.read_csv(\"/content/drive/MyDrive/IS470_data/BartRider.csv\")\n",
        "BartRider"
      ],
      "execution_count": null,
      "outputs": []
    },
    {
      "cell_type": "code",
      "metadata": {
        "id": "LiI3pabsNeRG"
      },
      "source": [
        "# Show the head rows of a data frame\n",
        "BartRider.head()"
      ],
      "execution_count": null,
      "outputs": []
    },
    {
      "cell_type": "code",
      "metadata": {
        "id": "Sxp6-L5nNeRH"
      },
      "source": [
        "# Examine variable type\n",
        "BartRider.dtypes"
      ],
      "execution_count": null,
      "outputs": []
    },
    {
      "cell_type": "code",
      "metadata": {
        "id": "0Tdv67wRNeRH"
      },
      "source": [
        "# Change categorical variables to \"category\"\n",
        "BartRider['DualInc'] = BartRider['DualInc'].astype('category')\n",
        "BartRider['Gender'] = BartRider['Gender'].astype('category')\n",
        "BartRider['Language'] = BartRider['Language'].astype('category')\n",
        "BartRider['OwnRent'] = BartRider['OwnRent'].astype('category')\n",
        "BartRider['Rider'] = BartRider['Rider'].astype('category')"
      ],
      "execution_count": null,
      "outputs": []
    },
    {
      "cell_type": "code",
      "metadata": {
        "id": "UPWSMKGRpWAj"
      },
      "source": [
        "# Examine variable type\n",
        "BartRider.dtypes"
      ],
      "execution_count": null,
      "outputs": []
    },
    {
      "cell_type": "markdown",
      "metadata": {
        "id": "a3baHs-sknIT"
      },
      "source": [
        "###2. Prepare data set for clustering"
      ]
    },
    {
      "cell_type": "code",
      "metadata": {
        "id": "PGheFILukrMR"
      },
      "source": [
        "# Create dummy variables\n",
        "BartRider = pd.get_dummies(BartRider, columns=['DualInc','Gender','Language','OwnRent','Rider'], drop_first=True)\n",
        "BartRider"
      ],
      "execution_count": null,
      "outputs": []
    },
    {
      "cell_type": "code",
      "metadata": {
        "id": "m3-RyoGA0xkS"
      },
      "source": [
        "# Apply minmax normalization\n",
        "min_max_scaler = preprocessing.MinMaxScaler()\n",
        "BartRider_normalized = pd.DataFrame(min_max_scaler.fit_transform(BartRider))\n",
        "BartRider_normalized.columns = BartRider.columns\n",
        "BartRider_normalized"
      ],
      "execution_count": null,
      "outputs": []
    },
    {
      "cell_type": "markdown",
      "metadata": {
        "id": "xt0XU6fmplzw"
      },
      "source": [
        "## 3. Clustering model"
      ]
    },
    {
      "cell_type": "code",
      "metadata": {
        "id": "yi8FlSIQpB_X"
      },
      "source": [
        "# Build a clustering model with n_clusters = 2. Set random_state=0.\n",
        "model1 = KMeans(n_clusters=2, random_state=0)\n",
        "model1.fit(BartRider_normalized)"
      ],
      "execution_count": null,
      "outputs": []
    },
    {
      "cell_type": "code",
      "metadata": {
        "id": "Qo9yOAObuS5P"
      },
      "source": [
        "# Generate the cluster labels\n",
        "model1.labels_"
      ],
      "execution_count": null,
      "outputs": []
    },
    {
      "cell_type": "code",
      "metadata": {
        "id": "IJhroSm3upPW"
      },
      "source": [
        "# Show cluster size\n",
        "Counter(model1.labels_)"
      ],
      "execution_count": null,
      "outputs": []
    },
    {
      "cell_type": "code",
      "metadata": {
        "id": "vbXweD28sTNc"
      },
      "source": [
        "# Show cluster centroids\n",
        "pd.DataFrame({'cluster 1':BartRider[model1.labels_==0].mean(axis=0), 'cluster 2':BartRider[model1.labels_==1].mean(axis=0)})"
      ],
      "execution_count": null,
      "outputs": []
    },
    {
      "cell_type": "markdown",
      "metadata": {
        "id": "J52hUfwmzTns"
      },
      "source": [
        "Q1. What is the percentage of BART riders for cluster 1 and 2?<br>"
      ]
    },
    {
      "cell_type": "markdown",
      "metadata": {
        "id": "VKlc6vX60yQ8"
      },
      "source": [
        "Q2. Use the attributes information of cluster centers to understand the profile of residents. Interpret each cluster based on your understanding.<br>\n"
      ]
    },
    {
      "cell_type": "code",
      "metadata": {
        "id": "EpNqg3RBvwY-"
      },
      "source": [
        "# Build a clustering model with n_clusters = 3\n"
      ],
      "execution_count": null,
      "outputs": []
    },
    {
      "cell_type": "code",
      "metadata": {
        "id": "iWQKwcYFvwZK"
      },
      "source": [
        "# Generate the cluster labels\n"
      ],
      "execution_count": null,
      "outputs": []
    },
    {
      "cell_type": "code",
      "metadata": {
        "id": "heM_KcoHvwZK"
      },
      "source": [
        "# Show cluster size\n"
      ],
      "execution_count": null,
      "outputs": []
    },
    {
      "cell_type": "code",
      "metadata": {
        "id": "DSarhNa-vwZL"
      },
      "source": [
        "# Show cluster centroids\n"
      ],
      "execution_count": null,
      "outputs": []
    },
    {
      "cell_type": "markdown",
      "metadata": {
        "id": "8ZxnGvD2SXgz"
      },
      "source": [
        "Q3. Assign a meaningful name to each cluster based on the representative profile of residents in each cluster. Explain the reasons for the name you choose.<br>\n",
        "\n",
        "\n"
      ]
    },
    {
      "cell_type": "markdown",
      "metadata": {
        "id": "cA_rYV6qSXgz"
      },
      "source": [
        "Q4. Based on the cluster size and centroids, which n_clusters (n_clusters=2 or n_clusters=3) you will use, and why?<br>\n"
      ]
    },
    {
      "cell_type": "markdown",
      "metadata": {
        "id": "Uqd68RU1So-v"
      },
      "source": [
        "Q5. If we segment residents into 3 clusters, what marketing plans you can use to target each cluster?<br>\n",
        "\n"
      ]
    },
    {
      "cell_type": "markdown",
      "metadata": {
        "id": "zSD8UqfyTTfy"
      },
      "source": [
        "## 4. Elbow test to determine optimal number of clusters"
      ]
    },
    {
      "cell_type": "code",
      "metadata": {
        "id": "TZQuKbzbTbpf"
      },
      "source": [
        "Sum_of_squared_error = []\n",
        "for k in range(1, 10):\n",
        "    kmeans = KMeans(n_clusters=k)\n",
        "    kmeans.fit(BartRider_normalized)\n",
        "    Sum_of_squared_error.append(kmeans.inertia_)\n",
        "\n",
        "fig = plt.figure(figsize=(15, 5))\n",
        "plt.scatter(range(1, 10), Sum_of_squared_error)\n",
        "plt.plot(range(1, 10), Sum_of_squared_error)\n",
        "plt.ylabel('Sum of squared error')\n",
        "plt.title('Elbow Test')"
      ],
      "execution_count": null,
      "outputs": []
    },
    {
      "cell_type": "markdown",
      "metadata": {
        "id": "rQdRivN0VbEK"
      },
      "source": [
        "Q5. What is the optimal cluster number?<br>\n"
      ]
    },
    {
      "cell_type": "code",
      "metadata": {
        "id": "MNRp8uoa-0g0"
      },
      "source": [
        "!jupyter nbconvert --to html \"/content/drive/MyDrive/IS470_lab/IS470_lab8.ipynb\""
      ],
      "execution_count": null,
      "outputs": []
    }
  ]
}